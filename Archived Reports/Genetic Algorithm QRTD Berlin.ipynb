{
 "cells": [
  {
   "cell_type": "code",
   "execution_count": 3,
   "metadata": {},
   "outputs": [],
   "source": [
    "import os, sys\n",
    "\n",
    "__file__ = '/Users/justin/SynologyDrive/Learning Materials/School/Grad School/CSE 6140 Algorithms/Project/CSE6140-TSP-Project/Archived Reports/Genetic Algorithm QRTD.ipynb'\n",
    "sys.path.append(os.path.dirname(os.path.dirname(os.path.realpath(__file__))))"
   ]
  },
  {
   "cell_type": "code",
   "execution_count": 5,
   "metadata": {},
   "outputs": [],
   "source": [
    "import Algorithms.genetic_algorithm as ga\n",
    "import utilities as u\n",
    "import tracer as t"
   ]
  },
  {
   "cell_type": "code",
   "execution_count": 6,
   "metadata": {},
   "outputs": [],
   "source": [
    "import datetime as dt\n",
    "\n",
    "# Champaign, 52643\n",
    "instance_name, tsp_data = u.load_data('../DATA/Berlin.tsp')\n",
    "optimal = 7542"
   ]
  },
  {
   "cell_type": "code",
   "execution_count": 7,
   "metadata": {
    "collapsed": true,
    "jupyter": {
     "outputs_hidden": true
    }
   },
   "outputs": [
    {
     "name": "stdout",
     "output_type": "stream",
     "text": [
      "1.0 1.0 0\n",
      "1.0 1.0 1\n",
      "1.0 1.0 2\n",
      "1.0 1.0 3\n",
      "1.0 1.0 4\n",
      "1.0 1.0 5\n",
      "1.0 1.0 6\n",
      "1.0 1.0 7\n",
      "1.0 1.0 8\n",
      "1.0 1.0 9\n",
      "1.0 12.8 0\n",
      "1.0 12.8 1\n",
      "1.0 12.8 2\n",
      "1.0 12.8 3\n",
      "1.0 12.8 4\n",
      "1.0 12.8 5\n",
      "1.0 12.8 6\n",
      "1.0 12.8 7\n",
      "1.0 12.8 8\n",
      "1.0 12.8 9\n",
      "1.0 24.6 0\n",
      "1.0 24.6 1\n",
      "1.0 24.6 2\n",
      "1.0 24.6 3\n",
      "1.0 24.6 4\n",
      "1.0 24.6 5\n",
      "1.0 24.6 6\n",
      "1.0 24.6 7\n",
      "1.0 24.6 8\n",
      "1.0 24.6 9\n",
      "1.0 36.400000000000006 0\n",
      "1.0 36.400000000000006 1\n",
      "1.0 36.400000000000006 2\n",
      "1.0 36.400000000000006 3\n",
      "1.0 36.400000000000006 4\n",
      "1.0 36.400000000000006 5\n",
      "1.0 36.400000000000006 6\n",
      "1.0 36.400000000000006 7\n",
      "1.0 36.400000000000006 8\n",
      "1.0 36.400000000000006 9\n",
      "1.0 48.2 0\n",
      "1.0 48.2 1\n",
      "1.0 48.2 2\n",
      "1.0 48.2 3\n",
      "1.0 48.2 4\n",
      "1.0 48.2 5\n",
      "1.0 48.2 6\n",
      "1.0 48.2 7\n",
      "1.0 48.2 8\n",
      "1.0 48.2 9\n",
      "1.0 60.0 0\n",
      "1.0 60.0 1\n",
      "1.0 60.0 2\n",
      "1.0 60.0 3\n",
      "1.0 60.0 4\n",
      "1.0 60.0 5\n",
      "1.0 60.0 6\n",
      "1.0 60.0 7\n",
      "1.0 60.0 8\n",
      "1.0 60.0 9\n"
     ]
    }
   ],
   "source": [
    "import numpy as np\n",
    "candidate_quality = [1.0,]#np.linspace(1.0, 2, 6)\n",
    "results = {}\n",
    "for q in candidate_quality:\n",
    "    results[q] = {}\n",
    "    for runtime in np.linspace(1, 60, 6):\n",
    "        results[q][runtime] = []\n",
    "        for i in range(10):\n",
    "            print(q, runtime, i)\n",
    "            score, solution = ga.solve(data=tsp_data, \n",
    "                                       timer=u.early_stop_checker(seconds=runtime, target_cost=q * optimal),\n",
    "                                       tracer=t.NullTracer())\n",
    "            results[q][runtime].append(score)"
   ]
  },
  {
   "cell_type": "code",
   "execution_count": 9,
   "metadata": {},
   "outputs": [],
   "source": [
    "first_runtime = results[1.0]"
   ]
  },
  {
   "cell_type": "code",
   "execution_count": 10,
   "metadata": {},
   "outputs": [],
   "source": [
    "key_set = []\n",
    "time_set = []\n",
    "for key, times in first_runtime.items():\n",
    "    key_set.append(key)\n",
    "    time_set.append(times)"
   ]
  },
  {
   "cell_type": "code",
   "execution_count": 11,
   "metadata": {},
   "outputs": [
    {
     "data": {
      "text/plain": [
       "[1.0, 12.8, 24.6, 36.400000000000006, 48.2, 60.0]"
      ]
     },
     "execution_count": 11,
     "metadata": {},
     "output_type": "execute_result"
    }
   ],
   "source": [
    "key_set"
   ]
  },
  {
   "cell_type": "code",
   "execution_count": 12,
   "metadata": {},
   "outputs": [
    {
     "data": {
      "image/png": "[encoded data removed]",
      "text/plain": [
       "<Figure size 864x576 with 1 Axes>"
      ]
     },
     "metadata": {
      "needs_background": "light"
     },
     "output_type": "display_data"
    }
   ],
   "source": [
    "import matplotlib.pyplot as plt\n",
    "%matplotlib inline\n",
    "\n",
    "\n",
    "fig, ax = plt.subplots()\n",
    "fig.set_figwidth(12)\n",
    "fig.set_figheight(8)\n",
    "pos = np.array(range(len(time_set))) + 1\n",
    "bp = ax.boxplot(time_set, \n",
    "                sym='k+', \n",
    "                labels=list(map(lambda x: round(x,2), key_set)),\n",
    "                positions=pos)\n",
    "\n",
    "ax.set_xlabel('Run Time')\n",
    "ax.set_ylabel('Solution Cost')\n",
    "plt.setp(bp['whiskers'], color='k', linestyle='-')\n",
    "plt.setp(bp['fliers'], markersize=3.0)\n",
    "plt.suptitle('Best Solution Cost for Run Time')\n",
    "plt.title('Algorithm: Genetic Algorithm, Instance: Berlin')\n",
    "plt.show()"
   ]
  },
  {
   "cell_type": "code",
   "execution_count": 13,
   "metadata": {
    "collapsed": true,
    "jupyter": {
     "outputs_hidden": true
    }
   },
   "outputs": [
    {
     "name": "stdout",
     "output_type": "stream",
     "text": [
      "0\n",
      "1\n",
      "2\n",
      "3\n",
      "4\n",
      "5\n",
      "6\n",
      "7\n",
      "8\n",
      "9\n",
      "10\n",
      "11\n",
      "12\n",
      "13\n",
      "14\n",
      "15\n",
      "16\n",
      "17\n",
      "18\n",
      "19\n",
      "20\n",
      "21\n",
      "22\n",
      "23\n",
      "24\n",
      "25\n",
      "26\n",
      "27\n",
      "28\n",
      "29\n",
      "30\n",
      "31\n",
      "32\n",
      "33\n",
      "34\n",
      "35\n",
      "36\n",
      "37\n",
      "38\n",
      "39\n",
      "40\n",
      "41\n",
      "42\n",
      "43\n",
      "44\n",
      "45\n",
      "46\n",
      "47\n",
      "48\n",
      "49\n",
      "50\n",
      "51\n",
      "52\n",
      "53\n",
      "54\n",
      "55\n",
      "56\n",
      "57\n",
      "58\n",
      "59\n",
      "60\n",
      "61\n",
      "62\n",
      "63\n",
      "64\n",
      "65\n",
      "66\n",
      "67\n",
      "68\n",
      "69\n",
      "70\n",
      "71\n",
      "72\n",
      "73\n",
      "74\n",
      "75\n",
      "76\n",
      "77\n",
      "78\n",
      "79\n",
      "80\n",
      "81\n",
      "82\n",
      "83\n",
      "84\n",
      "85\n",
      "86\n",
      "87\n",
      "88\n",
      "89\n",
      "90\n",
      "91\n",
      "92\n",
      "93\n",
      "94\n",
      "95\n",
      "96\n",
      "97\n",
      "98\n",
      "99\n"
     ]
    }
   ],
   "source": [
    "tracer = t.MultiRunTracer()\n",
    "\n",
    "for _ in range(100):\n",
    "    print(_)\n",
    "    score, _ = ga.solve(data=tsp_data, \n",
    "                             timer=u.early_stop_checker(seconds=25, target_cost=optimal+0.5), \n",
    "                             tracer=tracer)\n",
    "    tracer.next_run()"
   ]
  },
  {
   "cell_type": "code",
   "execution_count": 14,
   "metadata": {},
   "outputs": [],
   "source": [
    "def convert_run_to_relative_run(runs, optimal):\n",
    "    relative_runs = []\n",
    "    for run in runs:\n",
    "        initial_time = run[0][0]\n",
    "        relative_run = [((timestamp - initial_time).total_seconds(), score / optimal) for timestamp, score in run]\n",
    "        relative_runs.append(relative_run)\n",
    "    return relative_runs\n",
    "\n",
    "def run_hits_quality_in_time(run,q,t):\n",
    "    for elapsed_time, relative_score in run:\n",
    "        if relative_score < q and elapsed_time <= t:\n",
    "            return 1\n",
    "    return 0\n",
    "\n",
    "def probability_to_solve_in_limited_time(runs, q, t):\n",
    "    counts = sum(run_hits_quality_in_time(run, q, t) for run in runs)\n",
    "    return counts / len(runs)\n",
    "        "
   ]
  },
  {
   "cell_type": "code",
   "execution_count": 15,
   "metadata": {},
   "outputs": [],
   "source": [
    "relative_runs = convert_run_to_relative_run(tracer._runs, optimal=optimal)"
   ]
  },
  {
   "cell_type": "code",
   "execution_count": 20,
   "metadata": {},
   "outputs": [
    {
     "data": {
      "image/png": "[encoded data removed]",
      "text/plain": [
       "<Figure size 1008x504 with 1 Axes>"
      ]
     },
     "metadata": {
      "needs_background": "light"
     },
     "output_type": "display_data"
    }
   ],
   "source": [
    "import matplotlib.pyplot as plt\n",
    "%matplotlib inline\n",
    "\n",
    "plt.figure(figsize=(14,7))\n",
    "plt.suptitle('Solution Quality Distribution', size=14)\n",
    "plt.title('Algorithm: Genetic Algorithm, Instance: Berlin')\n",
    "plt.ylabel('Probability', size=12)\n",
    "plt.xlabel('Relative Solution Quality [%]', size=12)\n",
    "qualities = np.linspace(1,2,20)\n",
    "plt.xticks(list(range(len(qualities))), list(map(lambda x: round(x, 2), qualities)), rotation='horizontal')\n",
    "\n",
    "for t in np.linspace(3, 25, 4):\n",
    "    line_data = [probability_to_solve_in_limited_time(relative_runs, q, t=t) for q in qualities]\n",
    "    plt.plot(line_data, label=f'{int(round(t, 0))} seconds')\n",
    "plt.legend();"
   ]
  },
  {
   "cell_type": "code",
   "execution_count": 21,
   "metadata": {},
   "outputs": [
    {
     "data": {
      "image/png": "[encoded data removed]",
      "text/plain": [
       "<Figure size 1008x504 with 1 Axes>"
      ]
     },
     "metadata": {
      "needs_background": "light"
     },
     "output_type": "display_data"
    }
   ],
   "source": [
    "# QTRD Plots\n",
    "# Given a number of seconds\n",
    "#   and a vector of qualities\n",
    "\n",
    "import matplotlib.pyplot as plt\n",
    "%matplotlib inline\n",
    "\n",
    "plt.figure(figsize=(14,7))\n",
    "plt.suptitle('Qualified Run-Time Distribution', size=14)\n",
    "plt.title('Algorithm: Genetic Algorithm, Instance: Berlin')\n",
    "plt.ylabel('Probability', size=12)\n",
    "plt.xlabel('Run Time', size=12)\n",
    "times = np.linspace(1,25,25)\n",
    "plt.xticks(list(range(len(times))), list(map(lambda x: int(round(x, 0)), times)), rotation='horizontal')\n",
    "\n",
    "for q in np.linspace(1.2,2,5):\n",
    "    line_data = [probability_to_solve_in_limited_time(relative_runs, q, t=t) for t in times]\n",
    "    plt.plot(line_data, label=f'{int(round((q-1)*100,0))}% More Than Optimal');\n",
    "plt.legend();"
   ]
  },
  {
   "cell_type": "code",
   "execution_count": null,
   "metadata": {},
   "outputs": [],
   "source": []
  },
  {
   "cell_type": "code",
   "execution_count": null,
   "metadata": {},
   "outputs": [],
   "source": []
  },
  {
   "cell_type": "code",
   "execution_count": 92,
   "metadata": {},
   "outputs": [],
   "source": [
    "import numpy as np\n",
    "\n",
    "def find_solutions_of_minimum_quality(q):\n",
    "    runtimes = np.linspace(1, 20, 20)\n",
    "    results = []\n",
    "    iteration_count = 15\n",
    "    for runtime in runtimes:\n",
    "        total_sum = 0\n",
    "        for i in range(iteration_count):\n",
    "            print(q, runtime, i)\n",
    "            score, solution = ga.solve(data=tsp_data, \n",
    "                                         timer=u.early_stop_checker(seconds=runtime, target_cost=q * optimal), \n",
    "                                         tracer=t.InMemoryTracer())\n",
    "            total_sum += 1 if (score / optimal) < q else 0\n",
    "        results.append(total_sum / iteration_count)\n",
    "    return results"
   ]
  },
  {
   "cell_type": "code",
   "execution_count": null,
   "metadata": {},
   "outputs": [],
   "source": []
  },
  {
   "cell_type": "code",
   "execution_count": null,
   "metadata": {},
   "outputs": [],
   "source": []
  },
  {
   "cell_type": "code",
   "execution_count": null,
   "metadata": {},
   "outputs": [],
   "source": []
  },
  {
   "cell_type": "code",
   "execution_count": 93,
   "metadata": {
    "collapsed": true,
    "jupyter": {
     "outputs_hidden": true
    }
   },
   "outputs": [
    {
     "name": "stdout",
     "output_type": "stream",
     "text": [
      "1.5 1.0 0\n",
      "1.5 1.0 1\n",
      "1.5 1.0 2\n",
      "1.5 1.0 3\n",
      "1.5 1.0 4\n",
      "1.5 1.0 5\n",
      "1.5 1.0 6\n",
      "1.5 1.0 7\n",
      "1.5 1.0 8\n",
      "1.5 1.0 9\n",
      "1.5 1.0 10\n",
      "1.5 1.0 11\n",
      "1.5 1.0 12\n",
      "1.5 1.0 13\n",
      "1.5 1.0 14\n",
      "1.5 2.0 0\n",
      "1.5 2.0 1\n",
      "1.5 2.0 2\n",
      "1.5 2.0 3\n",
      "1.5 2.0 4\n",
      "1.5 2.0 5\n",
      "1.5 2.0 6\n",
      "1.5 2.0 7\n",
      "1.5 2.0 8\n",
      "1.5 2.0 9\n",
      "1.5 2.0 10\n",
      "1.5 2.0 11\n",
      "1.5 2.0 12\n",
      "1.5 2.0 13\n",
      "1.5 2.0 14\n",
      "1.5 3.0 0\n",
      "1.5 3.0 1\n",
      "1.5 3.0 2\n",
      "1.5 3.0 3\n",
      "1.5 3.0 4\n",
      "1.5 3.0 5\n",
      "1.5 3.0 6\n",
      "1.5 3.0 7\n",
      "1.5 3.0 8\n",
      "1.5 3.0 9\n",
      "1.5 3.0 10\n",
      "1.5 3.0 11\n",
      "1.5 3.0 12\n",
      "1.5 3.0 13\n",
      "1.5 3.0 14\n",
      "1.5 4.0 0\n",
      "1.5 4.0 1\n",
      "1.5 4.0 2\n",
      "1.5 4.0 3\n",
      "1.5 4.0 4\n",
      "1.5 4.0 5\n",
      "1.5 4.0 6\n",
      "1.5 4.0 7\n",
      "1.5 4.0 8\n",
      "1.5 4.0 9\n",
      "1.5 4.0 10\n",
      "1.5 4.0 11\n",
      "1.5 4.0 12\n",
      "1.5 4.0 13\n",
      "1.5 4.0 14\n",
      "1.5 5.0 0\n",
      "1.5 5.0 1\n",
      "1.5 5.0 2\n",
      "1.5 5.0 3\n",
      "1.5 5.0 4\n",
      "1.5 5.0 5\n",
      "1.5 5.0 6\n",
      "1.5 5.0 7\n",
      "1.5 5.0 8\n",
      "1.5 5.0 9\n",
      "1.5 5.0 10\n",
      "1.5 5.0 11\n",
      "1.5 5.0 12\n",
      "1.5 5.0 13\n",
      "1.5 5.0 14\n",
      "1.5 6.0 0\n",
      "1.5 6.0 1\n",
      "1.5 6.0 2\n",
      "1.5 6.0 3\n",
      "1.5 6.0 4\n",
      "1.5 6.0 5\n",
      "1.5 6.0 6\n",
      "1.5 6.0 7\n",
      "1.5 6.0 8\n",
      "1.5 6.0 9\n",
      "1.5 6.0 10\n",
      "1.5 6.0 11\n",
      "1.5 6.0 12\n",
      "1.5 6.0 13\n",
      "1.5 6.0 14\n",
      "1.5 7.0 0\n",
      "1.5 7.0 1\n",
      "1.5 7.0 2\n",
      "1.5 7.0 3\n",
      "1.5 7.0 4\n",
      "1.5 7.0 5\n",
      "1.5 7.0 6\n",
      "1.5 7.0 7\n",
      "1.5 7.0 8\n",
      "1.5 7.0 9\n",
      "1.5 7.0 10\n",
      "1.5 7.0 11\n",
      "1.5 7.0 12\n",
      "1.5 7.0 13\n",
      "1.5 7.0 14\n",
      "1.5 8.0 0\n",
      "1.5 8.0 1\n",
      "1.5 8.0 2\n",
      "1.5 8.0 3\n",
      "1.5 8.0 4\n",
      "1.5 8.0 5\n",
      "1.5 8.0 6\n",
      "1.5 8.0 7\n",
      "1.5 8.0 8\n",
      "1.5 8.0 9\n",
      "1.5 8.0 10\n",
      "1.5 8.0 11\n",
      "1.5 8.0 12\n",
      "1.5 8.0 13\n",
      "1.5 8.0 14\n",
      "1.5 9.0 0\n",
      "1.5 9.0 1\n",
      "1.5 9.0 2\n",
      "1.5 9.0 3\n",
      "1.5 9.0 4\n",
      "1.5 9.0 5\n",
      "1.5 9.0 6\n",
      "1.5 9.0 7\n",
      "1.5 9.0 8\n",
      "1.5 9.0 9\n",
      "1.5 9.0 10\n",
      "1.5 9.0 11\n",
      "1.5 9.0 12\n",
      "1.5 9.0 13\n",
      "1.5 9.0 14\n",
      "1.5 10.0 0\n",
      "1.5 10.0 1\n",
      "1.5 10.0 2\n",
      "1.5 10.0 3\n",
      "1.5 10.0 4\n",
      "1.5 10.0 5\n",
      "1.5 10.0 6\n",
      "1.5 10.0 7\n",
      "1.5 10.0 8\n",
      "1.5 10.0 9\n",
      "1.5 10.0 10\n",
      "1.5 10.0 11\n",
      "1.5 10.0 12\n",
      "1.5 10.0 13\n",
      "1.5 10.0 14\n",
      "1.5 11.0 0\n",
      "1.5 11.0 1\n",
      "1.5 11.0 2\n",
      "1.5 11.0 3\n",
      "1.5 11.0 4\n",
      "1.5 11.0 5\n",
      "1.5 11.0 6\n",
      "1.5 11.0 7\n",
      "1.5 11.0 8\n",
      "1.5 11.0 9\n",
      "1.5 11.0 10\n",
      "1.5 11.0 11\n",
      "1.5 11.0 12\n",
      "1.5 11.0 13\n",
      "1.5 11.0 14\n",
      "1.5 12.0 0\n",
      "1.5 12.0 1\n",
      "1.5 12.0 2\n",
      "1.5 12.0 3\n",
      "1.5 12.0 4\n",
      "1.5 12.0 5\n",
      "1.5 12.0 6\n",
      "1.5 12.0 7\n",
      "1.5 12.0 8\n",
      "1.5 12.0 9\n",
      "1.5 12.0 10\n",
      "1.5 12.0 11\n",
      "1.5 12.0 12\n",
      "1.5 12.0 13\n",
      "1.5 12.0 14\n",
      "1.5 13.0 0\n",
      "1.5 13.0 1\n",
      "1.5 13.0 2\n",
      "1.5 13.0 3\n",
      "1.5 13.0 4\n",
      "1.5 13.0 5\n",
      "1.5 13.0 6\n",
      "1.5 13.0 7\n",
      "1.5 13.0 8\n",
      "1.5 13.0 9\n",
      "1.5 13.0 10\n",
      "1.5 13.0 11\n",
      "1.5 13.0 12\n",
      "1.5 13.0 13\n",
      "1.5 13.0 14\n",
      "1.5 14.0 0\n",
      "1.5 14.0 1\n",
      "1.5 14.0 2\n",
      "1.5 14.0 3\n",
      "1.5 14.0 4\n",
      "1.5 14.0 5\n",
      "1.5 14.0 6\n",
      "1.5 14.0 7\n",
      "1.5 14.0 8\n",
      "1.5 14.0 9\n",
      "1.5 14.0 10\n",
      "1.5 14.0 11\n",
      "1.5 14.0 12\n",
      "1.5 14.0 13\n",
      "1.5 14.0 14\n",
      "1.5 15.0 0\n",
      "1.5 15.0 1\n",
      "1.5 15.0 2\n",
      "1.5 15.0 3\n",
      "1.5 15.0 4\n",
      "1.5 15.0 5\n",
      "1.5 15.0 6\n",
      "1.5 15.0 7\n",
      "1.5 15.0 8\n",
      "1.5 15.0 9\n",
      "1.5 15.0 10\n",
      "1.5 15.0 11\n",
      "1.5 15.0 12\n",
      "1.5 15.0 13\n",
      "1.5 15.0 14\n",
      "1.5 16.0 0\n",
      "1.5 16.0 1\n",
      "1.5 16.0 2\n",
      "1.5 16.0 3\n",
      "1.5 16.0 4\n",
      "1.5 16.0 5\n",
      "1.5 16.0 6\n",
      "1.5 16.0 7\n",
      "1.5 16.0 8\n",
      "1.5 16.0 9\n",
      "1.5 16.0 10\n",
      "1.5 16.0 11\n",
      "1.5 16.0 12\n",
      "1.5 16.0 13\n",
      "1.5 16.0 14\n",
      "1.5 17.0 0\n",
      "1.5 17.0 1\n",
      "1.5 17.0 2\n",
      "1.5 17.0 3\n",
      "1.5 17.0 4\n",
      "1.5 17.0 5\n",
      "1.5 17.0 6\n",
      "1.5 17.0 7\n",
      "1.5 17.0 8\n",
      "1.5 17.0 9\n",
      "1.5 17.0 10\n",
      "1.5 17.0 11\n",
      "1.5 17.0 12\n",
      "1.5 17.0 13\n",
      "1.5 17.0 14\n",
      "1.5 18.0 0\n",
      "1.5 18.0 1\n",
      "1.5 18.0 2\n",
      "1.5 18.0 3\n",
      "1.5 18.0 4\n",
      "1.5 18.0 5\n",
      "1.5 18.0 6\n",
      "1.5 18.0 7\n",
      "1.5 18.0 8\n",
      "1.5 18.0 9\n",
      "1.5 18.0 10\n",
      "1.5 18.0 11\n",
      "1.5 18.0 12\n",
      "1.5 18.0 13\n",
      "1.5 18.0 14\n",
      "1.5 19.0 0\n",
      "1.5 19.0 1\n",
      "1.5 19.0 2\n",
      "1.5 19.0 3\n",
      "1.5 19.0 4\n",
      "1.5 19.0 5\n",
      "1.5 19.0 6\n",
      "1.5 19.0 7\n",
      "1.5 19.0 8\n",
      "1.5 19.0 9\n",
      "1.5 19.0 10\n",
      "1.5 19.0 11\n",
      "1.5 19.0 12\n",
      "1.5 19.0 13\n",
      "1.5 19.0 14\n",
      "1.5 20.0 0\n",
      "1.5 20.0 1\n",
      "1.5 20.0 2\n",
      "1.5 20.0 3\n",
      "1.5 20.0 4\n",
      "1.5 20.0 5\n",
      "1.5 20.0 6\n",
      "1.5 20.0 7\n",
      "1.5 20.0 8\n",
      "1.5 20.0 9\n",
      "1.5 20.0 10\n",
      "1.5 20.0 11\n",
      "1.5 20.0 12\n",
      "1.5 20.0 13\n",
      "1.5 20.0 14\n"
     ]
    }
   ],
   "source": [
    "run_results = [find_solutions_of_minimum_quality(q) for q in [1.0625, 1.125, 1.25]"
   ]
  },
  {
   "cell_type": "code",
   "execution_count": null,
   "metadata": {},
   "outputs": [],
   "source": [
    "{1.5:[0.0,\n",
    " 0.0,\n",
    " 0.0,\n",
    " 0.0,\n",
    " 0.06666666666666667,\n",
    " 0.13333333333333333,\n",
    " 0.6666666666666666,\n",
    " 0.8666666666666667,\n",
    " 0.9333333333333333,\n",
    " 1.0,\n",
    " 1.0,\n",
    " 1.0,\n",
    " 1.0,\n",
    " 1.0,\n",
    " 1.0,\n",
    " 1.0,\n",
    " 1.0,\n",
    " 1.0,\n",
    " 1.0,\n",
    " 1.0]}"
   ]
  },
  {
   "cell_type": "code",
   "execution_count": 86,
   "metadata": {},
   "outputs": [
    {
     "data": {
      "text/plain": [
       "array([1.1 , 1.28, 1.46, 1.64, 1.82, 2.  ])"
      ]
     },
     "execution_count": 86,
     "metadata": {},
     "output_type": "execute_result"
    }
   ],
   "source": [
    "candidate_runtimes"
   ]
  },
  {
   "cell_type": "code",
   "execution_count": 94,
   "metadata": {},
   "outputs": [
    {
     "data": {
      "text/plain": [
       "[0.0,\n",
       " 0.0,\n",
       " 0.0,\n",
       " 0.0,\n",
       " 0.06666666666666667,\n",
       " 0.13333333333333333,\n",
       " 0.6666666666666666,\n",
       " 0.8666666666666667,\n",
       " 0.9333333333333333,\n",
       " 1.0,\n",
       " 1.0,\n",
       " 1.0,\n",
       " 1.0,\n",
       " 1.0,\n",
       " 1.0,\n",
       " 1.0,\n",
       " 1.0,\n",
       " 1.0,\n",
       " 1.0,\n",
       " 1.0]"
      ]
     },
     "execution_count": 94,
     "metadata": {},
     "output_type": "execute_result"
    }
   ],
   "source": [
    "run_results\n"
   ]
  },
  {
   "cell_type": "code",
   "execution_count": null,
   "metadata": {},
   "outputs": [],
   "source": [
    "import matplotlib.pyplot as plt\n",
    "%matplotlib inline\n",
    "\n"
   ]
  },
  {
   "cell_type": "code",
   "execution_count": 84,
   "metadata": {},
   "outputs": [
    {
     "ename": "SyntaxError",
     "evalue": "invalid syntax (<ipython-input-84-9c9daf434008>, line 2)",
     "output_type": "error",
     "traceback": [
      "\u001b[0;36m  File \u001b[0;32m\"<ipython-input-84-9c9daf434008>\"\u001b[0;36m, line \u001b[0;32m2\u001b[0m\n\u001b[0;31m    q =\u001b[0m\n\u001b[0m        ^\u001b[0m\n\u001b[0;31mSyntaxError\u001b[0m\u001b[0;31m:\u001b[0m invalid syntax\n"
     ]
    }
   ],
   "source": [
    "#given a quality \n",
    "q = \n",
    "# Find percent of solutions at each run time where a solution was found.\n",
    "run_time_percentages = []\n",
    "\n",
    "for runtime, costs in first_runtime.items():\n",
    "    percent_solved = (np.array(costs) <= q * optimal).sum() / len(costs)\n",
    "    run_time_percentages.append(percent_solved)\n",
    "run_time_percentages"
   ]
  },
  {
   "cell_type": "code",
   "execution_count": null,
   "metadata": {},
   "outputs": [],
   "source": []
  },
  {
   "cell_type": "code",
   "execution_count": 21,
   "metadata": {},
   "outputs": [
    {
     "data": {
      "image/png": "[encoded data removed]",
      "text/plain": [
       "<Figure size 432x288 with 1 Axes>"
      ]
     },
     "metadata": {
      "needs_background": "light"
     },
     "output_type": "display_data"
    }
   ],
   "source": [
    "import matplotlib.pyplot as plt\n",
    "%matplotlib inline\n",
    "\n",
    "inc = 0.1\n",
    "e1 = np.random.normal(0, 1, size=500)\n",
    "e2 = np.random.normal(0, 1, size=500)\n",
    "e3 = np.random.normal(0, 1 + inc, size=500)\n",
    "e4 = np.random.normal(0, 1 + 2*inc, size=500)\n",
    "\n",
    "treatments = [e1, e2, e3, e4]\n",
    "med1, CI1 = (0.1, (-0.25, 0.25))\n",
    "med2, CI2 = (0.2, (-0.35, 0.50))\n",
    "medians = [None, None, med1, med2]\n",
    "conf_intervals = [None, None, CI1, CI2]\n",
    "\n",
    "fig, ax = plt.subplots()\n",
    "pos = np.array(range(len(treatments))) + 1\n",
    "bp = ax.boxplot(treatments, sym='k+', positions=pos,\n",
    "                notch=1, bootstrap=5000,\n",
    "                usermedians=medians,\n",
    "                conf_intervals=conf_intervals)\n",
    "\n",
    "ax.set_xlabel('treatment')\n",
    "ax.set_ylabel('response')\n",
    "plt.setp(bp['whiskers'], color='k', linestyle='-')\n",
    "plt.setp(bp['fliers'], markersize=3.0)\n",
    "plt.show()"
   ]
  },
  {
   "cell_type": "code",
   "execution_count": 31,
   "metadata": {},
   "outputs": [],
   "source": [
    "import matplotlib.pyplot as plt\n",
    "%matplotlib inline\n",
    "\n",
    "inc = 0.1\n",
    "e1 = np.random.normal(0, 1, size=500)\n",
    "e2 = np.random.normal(0, 1, size=500)\n",
    "e3 = np.random.normal(0, 1 + inc, size=500)\n",
    "e4 = np.random.normal(0, 1 + 2*inc, size=500)\n",
    "\n",
    "treatments = [e1, e2, e3, e4]\n",
    "med1, CI1 = (0.1, (-0.25, 0.25))\n",
    "med2, CI2 = (0.2, (-0.35, 0.50))\n",
    "medians = [None, None, med1, med2]\n",
    "conf_intervals = [None, None, CI1, CI2]"
   ]
  },
  {
   "cell_type": "code",
   "execution_count": 38,
   "metadata": {},
   "outputs": [
    {
     "data": {
      "image/png": "[encoded data removed]",
      "text/plain": [
       "<Figure size 432x288 with 1 Axes>"
      ]
     },
     "metadata": {
      "needs_background": "light"
     },
     "output_type": "display_data"
    }
   ],
   "source": [
    "fig, ax = plt.subplots()\n",
    "pos = np.array(range(len(treatments))) + 1\n",
    "bp = ax.boxplot(treatments, \n",
    "                sym='k+', \n",
    "                positions=pos)\n",
    "\n",
    "ax.set_xlabel('treatment')\n",
    "ax.set_ylabel('response')\n",
    "plt.setp(bp['whiskers'], color='k', linestyle='-')\n",
    "plt.setp(bp['fliers'], markersize=3.0)\n",
    "plt.show()"
   ]
  },
  {
   "cell_type": "code",
   "execution_count": null,
   "metadata": {},
   "outputs": [],
   "source": []
  }
 ],
 "metadata": {
  "kernelspec": {
   "display_name": "Python 3",
   "language": "python",
   "name": "python3"
  },
  "language_info": {
   "codemirror_mode": {
    "name": "ipython",
    "version": 3
   },
   "file_extension": ".py",
   "mimetype": "text/x-python",
   "name": "python",
   "nbconvert_exporter": "python",
   "pygments_lexer": "ipython3",
   "version": "3.7.4"
  }
 },
 "nbformat": 4,
 "nbformat_minor": 4
}
