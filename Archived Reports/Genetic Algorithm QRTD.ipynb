{
 "cells": [
  {
   "cell_type": "code",
   "execution_count": 1,
   "metadata": {},
   "outputs": [],
   "source": [
    "import os, sys\n",
    "\n",
    "__file__ = '/Users/justin/SynologyDrive/Learning Materials/School/Grad School/CSE 6140 Algorithms/Project/CSE6140-TSP-Project/Archived Reports/Genetic Algorithm QRTD.ipynb'\n",
    "sys.path.append(os.path.dirname(os.path.dirname(os.path.realpath(__file__))))"
   ]
  },
  {
   "cell_type": "code",
   "execution_count": 2,
   "metadata": {},
   "outputs": [],
   "source": [
    "import genetic_algorithm as ga\n",
    "import utilities as u\n",
    "import tracer as t"
   ]
  },
  {
   "cell_type": "code",
   "execution_count": 12,
   "metadata": {},
   "outputs": [],
   "source": [
    "import datetime as dt\n",
    "\n",
    "instance_name, tsp_data = u.load_data('../DATA/Berlin.tsp')\n",
    "optimal = 7542\n",
    "\n",
    "score, solution = ga.solve(data=tsp_data, \n",
    "         timer=u.early_stop_checker(seconds=600, target_cost=0), \n",
    "         tracer=t.NullTracer())"
   ]
  },
  {
   "cell_type": "code",
   "execution_count": 13,
   "metadata": {},
   "outputs": [
    {
     "data": {
      "text/plain": [
       "8090.384570567151"
      ]
     },
     "execution_count": 13,
     "metadata": {},
     "output_type": "execute_result"
    }
   ],
   "source": [
    "score"
   ]
  },
  {
   "cell_type": "code",
   "execution_count": null,
   "metadata": {},
   "outputs": [
    {
     "name": "stdout",
     "output_type": "stream",
     "text": [
      "1.1 1.0 0\n",
      "1.1 1.0 1\n",
      "1.1 1.0 2\n",
      "1.1 1.0 3\n",
      "1.1 1.0 4\n",
      "1.1 1.0 5\n",
      "1.1 1.0 6\n",
      "1.1 1.0 7\n",
      "1.1 1.0 8\n",
      "1.1 1.0 9\n",
      "1.1 15.75 0\n",
      "1.1 15.75 1\n",
      "1.1 15.75 2\n",
      "1.1 15.75 3\n",
      "1.1 15.75 4\n",
      "1.1 15.75 5\n",
      "1.1 15.75 6\n",
      "1.1 15.75 7\n",
      "1.1 15.75 8\n",
      "1.1 15.75 9\n",
      "1.1 30.5 0\n",
      "1.1 30.5 1\n",
      "1.1 30.5 2\n",
      "1.1 30.5 3\n",
      "1.1 30.5 4\n",
      "1.1 30.5 5\n",
      "1.1 30.5 6\n",
      "1.1 30.5 7\n",
      "1.1 30.5 8\n",
      "1.1 30.5 9\n",
      "1.1 45.25 0\n"
     ]
    }
   ],
   "source": [
    "import numpy as np\n",
    "\n",
    "results = {}\n",
    "for q in np.linspace(1.1, 2, 6):\n",
    "    results[q] = {}\n",
    "    for runtime in np.linspace(1, 60, 5):\n",
    "        results[q][runtime] = []\n",
    "        for i in range(10):\n",
    "            print(q, runtime, i)\n",
    "            score, solution = ga.solve(data=tsp_data, \n",
    "                                         timer=u.early_stop_checker(seconds=runtime, target_cost=q * optimal), \n",
    "                                         tracer=t.NullTracer())\n",
    "            results[q][runtime].append(score)"
   ]
  },
  {
   "cell_type": "code",
   "execution_count": 9,
   "metadata": {},
   "outputs": [
    {
     "data": {
      "text/plain": [
       "{1.05: [2099993.317010927,\n",
       "  2095059.8135726782,\n",
       "  2102487.1509264065,\n",
       "  2065151.000280231,\n",
       "  2075722.4762750021,\n",
       "  2101266.5475992244,\n",
       "  2052218.8103687046,\n",
       "  2084665.7027710811,\n",
       "  2088707.2238181368,\n",
       "  2086829.1377508128],\n",
       " 1.24: [2480988.9280243777,\n",
       "  2473294.5720539247,\n",
       "  2446368.6698571583,\n",
       "  2419777.031134937,\n",
       "  2443992.740969065,\n",
       "  2464320.1300960537,\n",
       "  2447914.90903238,\n",
       "  2362969.751622646,\n",
       "  2482614.3367704554,\n",
       "  2417449.741438729],\n",
       " 1.4300000000000002: [2837027.510237773,\n",
       "  2656754.0466784635,\n",
       "  2761146.2055480815,\n",
       "  2817586.424888067,\n",
       "  2840787.0403979416,\n",
       "  2862884.7889729906,\n",
       "  2799689.7959615043,\n",
       "  2823932.703767645,\n",
       "  2751312.643398908,\n",
       "  2859781.6980937766],\n",
       " 1.62: [3193805.710761105,\n",
       "  3125922.6488906285,\n",
       "  3149668.419372318,\n",
       "  3116960.35669157,\n",
       "  3168629.841467201,\n",
       "  2937762.549684788,\n",
       "  3064020.720931838,\n",
       "  3093264.2673366666,\n",
       "  2968662.7629980687,\n",
       "  3059016.6071327827],\n",
       " 1.81: [3488071.9161814535,\n",
       "  3477973.1710244413,\n",
       "  3621286.982405969,\n",
       "  3179153.653691117,\n",
       "  3357048.9650714747,\n",
       "  3234016.0752005824,\n",
       "  3416364.170498139,\n",
       "  3440493.995014275,\n",
       "  3278072.5928568924,\n",
       "  3467856.459528986],\n",
       " 2.0: [3442870.994161895,\n",
       "  3287798.2111134916,\n",
       "  3272800.3523142743,\n",
       "  3599416.6301433435,\n",
       "  3347603.5360067505,\n",
       "  3631828.1477638124,\n",
       "  3310983.605349989,\n",
       "  3493040.147499285,\n",
       "  3545173.0480419383,\n",
       "  3478903.7863322664]}"
      ]
     },
     "execution_count": 9,
     "metadata": {},
     "output_type": "execute_result"
    }
   ],
   "source": [
    "results"
   ]
  },
  {
   "cell_type": "code",
   "execution_count": null,
   "metadata": {},
   "outputs": [],
   "source": []
  }
 ],
 "metadata": {
  "kernelspec": {
   "display_name": "Python 3",
   "language": "python",
   "name": "python3"
  },
  "language_info": {
   "codemirror_mode": {
    "name": "ipython",
    "version": 3
   },
   "file_extension": ".py",
   "mimetype": "text/x-python",
   "name": "python",
   "nbconvert_exporter": "python",
   "pygments_lexer": "ipython3",
   "version": "3.7.4"
  }
 },
 "nbformat": 4,
 "nbformat_minor": 4
}
